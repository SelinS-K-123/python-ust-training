{
 "cells": [
  {
   "cell_type": "code",
   "execution_count": 1,
   "id": "771d2e2f",
   "metadata": {},
   "outputs": [
    {
     "name": "stdout",
     "output_type": "stream",
     "text": [
      "Yes\n"
     ]
    },
    {
     "data": {
      "text/plain": [
       "\"def is_connected(g):\\n\\tstart_node = list(g.keys())[0]\\n\\tcolor = {v: 'white' for v in g.keys()}\\n\\tcolor[start_node] = 'gray'\\n\\tS = [start_node]\\n\\twhile len(S) != 0:\\n\\t\\tu = S.pop()\\n\\t\\tfor v in g[u]:\\n\\t\\t\\tif color[v] == 'white':\\n\\t\\t\\t\\tcolor[v] = 'gray'\\n\\t\\t\\t\\tS.append(v)\\n\\t\\t\\tcolor[u] = 'black'\\n\\treturn list(color.values()).count('black') == len(g.keys())\""
      ]
     },
     "execution_count": 1,
     "metadata": {},
     "output_type": "execute_result"
    }
   ],
   "source": [
    "# Python3 implementation of the approach\n",
    "N = 100000\n",
    "\n",
    "# To keep correct and reverse direction\n",
    "gr1 = {}; gr2 = {};\n",
    "\n",
    "vis1 = [0] * N; vis2 = [0] * N;\n",
    "\n",
    "# Function to add edges\n",
    "def Add_edge(u, v) :\n",
    "\n",
    "\tif u not in gr1 :\n",
    "\t\tgr1[u] = [];\n",
    "\t\t\n",
    "\tif v not in gr2 :\n",
    "\t\tgr2[v] = [];\n",
    "\t\t\n",
    "\tgr1[u].append(v);\n",
    "\tgr2[v].append(u);\n",
    "\n",
    "# DFS function\n",
    "def dfs1(x) :\n",
    "\tvis1[x] = True;\n",
    "\tif x not in gr1 :\n",
    "\t\tgr1[x] = {};\n",
    "\t\t\n",
    "\tfor i in gr1[x] :\n",
    "\t\tif (not vis1[i]) :\n",
    "\t\t\tdfs1(i)\n",
    "\n",
    "# DFS function\n",
    "def dfs2(x) :\n",
    "\n",
    "\tvis2[x] = True;\n",
    "\n",
    "\tif x not in gr2 :\n",
    "\t\tgr2[x] = {};\n",
    "\t\t\n",
    "\tfor i in gr2[x] :\n",
    "\t\tif (not vis2[i]) :\n",
    "\t\t\tdfs2(i);\n",
    "\n",
    "def Is_Connected(n) :\n",
    "\n",
    "\tglobal vis1;\n",
    "\tglobal vis2;\n",
    "\t\n",
    "\t# Call for correct direction\n",
    "\tvis1 = [False] * len(vis1);\n",
    "\tdfs1(1);\n",
    "\t\n",
    "\t# Call for reverse direction\n",
    "\tvis2 = [False] * len(vis2);\n",
    "\tdfs2(1);\n",
    "\t\n",
    "\tfor i in range(1, n + 1) :\n",
    "\t\t\n",
    "\t\t# If any vertex it not visited in any direction\n",
    "\t\t# Then graph is not connected\n",
    "\t\tif (not vis1[i] and not vis2[i]) :\n",
    "\t\t\treturn False;\n",
    "\t\t\t\n",
    "\t# If graph is connected\n",
    "\treturn True;\n",
    "\n",
    "# Driver code\n",
    "if __name__ == \"__main__\" :\n",
    "\n",
    "\tn = 4;\n",
    "\n",
    "\t# Add edges\n",
    "\tAdd_edge(1, 2);\n",
    "\tAdd_edge(1, 3);\n",
    "\tAdd_edge(2, 3);\n",
    "\tAdd_edge(3, 4);\n",
    "\n",
    "\t# Function call\n",
    "\tif (Is_Connected(n)) :\n",
    "\t\tprint(\"Yes\");\n",
    "\telse :\n",
    "\t\tprint(\"No\");\n",
    "\n",
    "\n",
    "#===============================================================#\n",
    "\n",
    "'''def is_connected(g):\n",
    "\tstart_node = list(g.keys())[0]\n",
    "\tcolor = {v: 'white' for v in g.keys()}\n",
    "\tcolor[start_node] = 'gray'\n",
    "\tS = [start_node]\n",
    "\twhile len(S) != 0:\n",
    "\t\tu = S.pop()\n",
    "\t\tfor v in g[u]:\n",
    "\t\t\tif color[v] == 'white':\n",
    "\t\t\t\tcolor[v] = 'gray'\n",
    "\t\t\t\tS.append(v)\n",
    "\t\t\tcolor[u] = 'black'\n",
    "\treturn list(color.values()).count('black') == len(g.keys())'''\n",
    "\n"
   ]
  },
  {
   "cell_type": "code",
   "execution_count": null,
   "id": "c5cee0a9",
   "metadata": {},
   "outputs": [],
   "source": []
  }
 ],
 "metadata": {
  "kernelspec": {
   "display_name": "Python 3 (ipykernel)",
   "language": "python",
   "name": "python3"
  },
  "language_info": {
   "codemirror_mode": {
    "name": "ipython",
    "version": 3
   },
   "file_extension": ".py",
   "mimetype": "text/x-python",
   "name": "python",
   "nbconvert_exporter": "python",
   "pygments_lexer": "ipython3",
   "version": "3.9.7"
  }
 },
 "nbformat": 4,
 "nbformat_minor": 5
}
