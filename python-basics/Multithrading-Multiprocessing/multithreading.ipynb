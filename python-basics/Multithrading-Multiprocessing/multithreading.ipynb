{
 "cells": [
  {
   "cell_type": "code",
   "execution_count": 2,
   "id": "e949a24f",
   "metadata": {},
   "outputs": [
    {
     "name": "stdout",
     "output_type": "stream",
     "text": [
      "Take order from tableServer order from table 1\n",
      "Server order from table 2\n",
      "Server order from table 3\n",
      " 1\n",
      "Take order from table 2\n",
      "Take order from table 3Server order from table 4\n",
      "Server order from table 5\n",
      "Server order from table 6\n",
      "Server order from table 7\n",
      "\n",
      "Take order from table 4\n",
      "Take order from table 5\n",
      "Take order from tableServer order from table 8\n",
      "Server order from table 9\n",
      "Server order from table 10\n",
      " 6\n",
      "Take order from table 7\n",
      "Take order from table 8\n",
      "Take order from table 9\n",
      "Take order from table 10\n"
     ]
    }
   ],
   "source": [
    "from threading import Thread\n",
    "class Hotel:\n",
    "    def __init__(self,t):\n",
    "        self.t=t\n",
    "    def food(self):\n",
    "        for i in range(1,11):  #number of table\n",
    "            print(self.t,i)\n",
    "h1=Hotel('Take order from table')\n",
    "h2=Hotel('Server order from table')\n",
    "t1=Thread(target=h1.food)\n",
    "t2=Thread(target=h2.food)\n",
    "t1.start()\n",
    "t2.start()\n"
   ]
  },
  {
   "cell_type": "code",
   "execution_count": null,
   "id": "692f4d88",
   "metadata": {},
   "outputs": [],
   "source": []
  }
 ],
 "metadata": {
  "kernelspec": {
   "display_name": "Python 3 (ipykernel)",
   "language": "python",
   "name": "python3"
  },
  "language_info": {
   "codemirror_mode": {
    "name": "ipython",
    "version": 3
   },
   "file_extension": ".py",
   "mimetype": "text/x-python",
   "name": "python",
   "nbconvert_exporter": "python",
   "pygments_lexer": "ipython3",
   "version": "3.9.7"
  }
 },
 "nbformat": 4,
 "nbformat_minor": 5
}
