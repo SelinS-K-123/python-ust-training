{
 "cells": [
  {
   "cell_type": "code",
   "execution_count": 2,
   "id": "6acc4e09",
   "metadata": {},
   "outputs": [],
   "source": [
    "import csv\n"
   ]
  },
  {
   "cell_type": "code",
   "execution_count": 3,
   "id": "a18c9829",
   "metadata": {},
   "outputs": [
    {
     "name": "stdout",
     "output_type": "stream",
     "text": [
      "fname,lname,uid,location\n",
      "rajesh,aaaa,21596,bangalore\n",
      "puja,bbbb,21595,kolar\n",
      "umrah,cccc,21546,mysore\n",
      "anuj,ddddd,21578,nandihills\n",
      "ashish,eeee,21597,krpuram\n",
      "\n"
     ]
    }
   ],
   "source": [
    "#Reading a file\n",
    "with open('1.csv') as i:\n",
    "   f_read=i.read()\n",
    "   print(f_read)"
   ]
  },
  {
   "cell_type": "code",
   "execution_count": 4,
   "id": "c40e0d2e",
   "metadata": {},
   "outputs": [
    {
     "name": "stdout",
     "output_type": "stream",
     "text": [
      "['fname', 'lname', 'uid', 'location']\n",
      "['rajesh', 'aaaa', '21596', 'bangalore']\n",
      "['puja', 'bbbb', '21595', 'kolar']\n",
      "['umrah', 'cccc', '21546', 'mysore']\n",
      "['anuj', 'ddddd', '21578', 'nandihills']\n",
      "['ashish', 'eeee', '21597', 'krpuram']\n"
     ]
    }
   ],
   "source": [
    "w= open('1.csv')\n",
    "read=csv.reader(w)\n",
    "for i in read:\n",
    "    print(i)"
   ]
  },
  {
   "cell_type": "code",
   "execution_count": 5,
   "id": "1e531340",
   "metadata": {},
   "outputs": [
    {
     "name": "stdout",
     "output_type": "stream",
     "text": [
      "['fname', 'lname', 'uid', 'location']\n",
      "['rajesh', 'aaaa', '21596', 'bangalore']\n",
      "['puja', 'bbbb', '21595', 'kolar']\n",
      "['umrah', 'cccc', '21546', 'mysore']\n"
     ]
    }
   ],
   "source": [
    "# slicing\n",
    "w= open('1.csv')\n",
    "read=csv.reader(w)\n",
    "sli=list(read)\n",
    "# print(sli[1:5])\n",
    "# or\n",
    "for i in sli[:4]:\n",
    "    print(i)"
   ]
  },
  {
   "cell_type": "code",
   "execution_count": 6,
   "id": "6b81aca9",
   "metadata": {},
   "outputs": [
    {
     "name": "stdout",
     "output_type": "stream",
     "text": [
      "['yamini', 'ashish', 'bangalore', 'kolar', 'mysore', 'nandihills', 'krpuram']\n"
     ]
    }
   ],
   "source": [
    "# append\n",
    "w= open('1.csv')\n",
    "read=csv.reader(w)\n",
    "slicing=list(read)\n",
    "emp_list=['yamini','ashish']\n",
    "for i in slicing[1:]:\n",
    "    emp_list.append(i[3])\n",
    "print(emp_list)"
   ]
  },
  {
   "cell_type": "code",
   "execution_count": 7,
   "id": "0e5de607",
   "metadata": {},
   "outputs": [
    {
     "name": "stdout",
     "output_type": "stream",
     "text": [
      "['rajesh aaaa', 'puja bbbb', 'umrah cccc', 'anuj ddddd', 'ashish eeee']\n"
     ]
    }
   ],
   "source": [
    "# full name with append\n",
    "w= open('1.csv')\n",
    "read=csv.reader(w)\n",
    "sli=list(read)\n",
    "full_name=[]\n",
    "for i in sli[1:6]:\n",
    "    full_name.append(i[0]+' '+i[1])\n",
    "print(full_name)"
   ]
  },
  {
   "cell_type": "code",
   "execution_count": 8,
   "id": "a62fa99f",
   "metadata": {},
   "outputs": [],
   "source": [
    "#Writing a File\n",
    "with open('csv_w.csv','w')as w:          #check the pwd file is there or not\n",
    "    x=csv.writer(w)\n",
    "    x.writerow(['pyhton','java','R','sita'])\n",
    "    x.writerows([['pyhton','java','R'],['apple','banana','coconut'],['biriyani','dosa','idli']])"
   ]
  },
  {
   "cell_type": "code",
   "execution_count": 15,
   "id": "05c5a990",
   "metadata": {},
   "outputs": [
    {
     "ename": "SyntaxError",
     "evalue": "invalid syntax (Temp/ipykernel_29200/2949562413.py, line 2)",
     "output_type": "error",
     "traceback": [
      "\u001b[1;36m  File \u001b[1;32m\"C:\\Users\\welcome\\AppData\\Local\\Temp/ipykernel_29200/2949562413.py\"\u001b[1;36m, line \u001b[1;32m2\u001b[0m\n\u001b[1;33m    pip install PyPDF2\u001b[0m\n\u001b[1;37m        ^\u001b[0m\n\u001b[1;31mSyntaxError\u001b[0m\u001b[1;31m:\u001b[0m invalid syntax\n"
     ]
    }
   ],
   "source": [
    "#Working with pdf file\n",
    "pip install PyPDF2\n"
   ]
  },
  {
   "cell_type": "code",
   "execution_count": 17,
   "id": "4a2185d0",
   "metadata": {},
   "outputs": [],
   "source": [
    "import PyPDF2 "
   ]
  },
  {
   "cell_type": "code",
   "execution_count": 19,
   "id": "acb4187a",
   "metadata": {},
   "outputs": [],
   "source": [
    "import PyPDF2\n",
    "# from PyPDF2 import PdfFileReader\n",
    "with open('WBP.pdf','rb')as pdf_handle:\n",
    "    pdf_reader=PyPDF2.PdfFileReader(pdf_handle)"
   ]
  },
  {
   "cell_type": "code",
   "execution_count": 20,
   "id": "94db7f97",
   "metadata": {},
   "outputs": [
    {
     "name": "stdout",
     "output_type": "stream",
     "text": [
      "5\n"
     ]
    }
   ],
   "source": [
    "with open('WBP.pdf','rb')as pdf_handle:\n",
    "    pdf_reader=PyPDF2.PdfFileReader(pdf_handle)\n",
    "    page=pdf_reader.numPages   #numPages is used to find no of pages present in the pdf\n",
    "    print(page)"
   ]
  },
  {
   "cell_type": "code",
   "execution_count": 21,
   "id": "98e750d2",
   "metadata": {},
   "outputs": [
    {
     "name": "stdout",
     "output_type": "stream",
     "text": [
      "applications. Quickly drive clicks-and-mortar catalysts for change before \n",
      "vertical architectures. \n",
      "Credibly reintermediate backend ideas for cross-platform models. \n",
      "Continually reintermediate integrated processes through technically sound \n",
      "intellectual capital. Holistically foster superior methodologies without \n",
      "market-driven best practices. Distinctively exploit optimal alignments for intuitive bandwidth. Quickly \n",
      "coordinate e-business applications through revolutionary catalysts for \n",
      "change. Seamlessly underwhelm optimal testing procedures whereas \n",
      "bricks-and-clicks processes. \n",
      "Synergistically evolve 2.0 technologies rather than just in time initiatives. \n",
      "Quickly deploy strategic networks with compelling e-business. Credibly \n",
      "pontiÞcate highly efÞcient manufactured products and enabled data. \n",
      "Dynamically target high-payoff intellectual capital for customized \n",
      "technologies. Objectively integrate emerging core competencies before \n",
      "process-centric communities. Dramatically evisculate holistic innovation \n",
      "rather than client-centric data. Progressively maintain extensive infomediaries via extensible niches. \n",
      "Dramatically disseminate standardized metrics after resource-leveling \n",
      "processes. Objectively pursue diverse catalysts for change for \n",
      "interoperable meta-services. \n",
      "Proactively fabricate one-to-one materials via effective e-business. \n",
      "Completely synergize scalable e-commerce rather than high standards in \n",
      "e-services. Assertively iterate resource maximizing products after leading-\n",
      "edge intellectual capital. Distinctively re-engineer revolutionary meta-services and premium \n",
      "architectures. Intrinsically incubate intuitive opportunities and real-time \n",
      "potentialities. Appropriately communicate one-to-one technology after \n",
      "plug-and-play networks. Quickly aggregate B2B users and worldwide potentialities. Progressively \n",
      "plagiarize resource-leveling e-commerce through resource-leveling core \n",
      "BUSINESS PROPOSAL\n",
      "!3\n"
     ]
    }
   ],
   "source": [
    "import PyPDF2\n",
    "# from PyPDF2 import PdfFileReader\n",
    "with open('WBP.pdf','rb')as pdf_handle:\n",
    "    pdf_reader=PyPDF2.PdfFileReader(pdf_handle)\n",
    "    page_one=pdf_reader.getPage(2)#assigning page number\n",
    "    ex_text=page_one.extractText()#extracting text for assigned page no\n",
    "    print(ex_text)"
   ]
  },
  {
   "cell_type": "code",
   "execution_count": 22,
   "id": "74f3cdf3",
   "metadata": {},
   "outputs": [],
   "source": [
    "#     copy pages and append pages to new pdf\n",
    "with open('WBP.pdf','rb')as pdf_handle:\n",
    "    pdf_reader=PyPDF2.PdfFileReader(pdf_handle)\n",
    "    page_one=pdf_reader.getPage(0)\n",
    "    pdf_writer=PyPDF2.PdfFileWriter()\n",
    "    pdf_writer.addPage(page_one)\n",
    "    pdf_output= open('new.pdf','wb')\n",
    "    pdf_writer.write(pdf_output)\n",
    "    pdf_output.close"
   ]
  },
  {
   "cell_type": "code",
   "execution_count": 23,
   "id": "c66f9cf2",
   "metadata": {},
   "outputs": [
    {
     "name": "stdout",
     "output_type": "stream",
     "text": [
      "applications. Quickly drive clicks-and-mortar catalysts for change before \n",
      "vertical architectures. \n",
      "Credibly reintermediate backend ideas for cross-platform models. \n",
      "Continually reintermediate integrated processes through technically sound \n",
      "intellectual capital. Holistically foster superior methodologies without \n",
      "market-driven best practices. Distinctively exploit optimal alignments for intuitive bandwidth. Quickly \n",
      "coordinate e-business applications through revolutionary catalysts for \n",
      "change. Seamlessly underwhelm optimal testing procedures whereas \n",
      "bricks-and-clicks processes. \n",
      "Synergistically evolve 2.0 technologies rather than just in time initiatives. \n",
      "Quickly deploy strategic networks with compelling e-business. Credibly \n",
      "pontiÞcate highly efÞcient manufactured products and enabled data. \n",
      "Dynamically target high-payoff intellectual capital for customized \n",
      "technologies. Objectively integrate emerging core competencies before \n",
      "process-centric communities. Dramatically evisculate holistic innovation \n",
      "rather than client-centric data. Progressively maintain extensive infomediaries via extensible niches. \n",
      "Dramatically disseminate standardized metrics after resource-leveling \n",
      "processes. Objectively pursue diverse catalysts for change for \n",
      "interoperable meta-services. \n",
      "Proactively fabricate one-to-one materials via effective e-business. \n",
      "Completely synergize scalable e-commerce rather than high standards in \n",
      "e-services. Assertively iterate resource maximizing products after leading-\n",
      "edge intellectual capital. Distinctively re-engineer revolutionary meta-services and premium \n",
      "architectures. Intrinsically incubate intuitive opportunities and real-time \n",
      "potentialities. Appropriately communicate one-to-one technology after \n",
      "plug-and-play networks. Quickly aggregate B2B users and worldwide potentialities. Progressively \n",
      "plagiarize resource-leveling e-commerce through resource-leveling core \n",
      "BUSINESS PROPOSAL\n",
      "!3\n"
     ]
    }
   ],
   "source": [
    "# read all the text from pdf file\n",
    "with open('WBP.pdf','rb')as pdf_handle:\n",
    "    pdf_reader=PyPDF2.PdfFileReader(pdf_handle)\n",
    "    f = open('WBP.pdf','rb')\n",
    "    text = []\n",
    "    for i in range(pdf_reader.numPages):\n",
    "        page = pdf_reader.getPage(i)    \n",
    "        text.append(page.extractText())\n",
    "    # print(text)#prin all text\n",
    "    print(text[2])#perticular page"
   ]
  },
  {
   "cell_type": "code",
   "execution_count": 30,
   "id": "67aa7443",
   "metadata": {},
   "outputs": [
    {
     "name": "stdout",
     "output_type": "stream",
     "text": [
      "Test write this....hello world gud mrng\n",
      "Content read successfully\n"
     ]
    }
   ],
   "source": [
    "try:\n",
    "    f = open('testfile','r')\n",
    "    print(f.read())\n",
    "    #f.close()\n",
    "except IOError:\n",
    "    # This will only check for an IOError exception and then execute this print statement\n",
    "    print(\"Error: Could not find file or read data\")\n",
    "else:\n",
    "    print(\"Content read successfully\")\n",
    "    f.close() "
   ]
  },
  {
   "cell_type": "code",
   "execution_count": null,
   "id": "6f091a36",
   "metadata": {},
   "outputs": [],
   "source": []
  }
 ],
 "metadata": {
  "kernelspec": {
   "display_name": "Python 3 (ipykernel)",
   "language": "python",
   "name": "python3"
  },
  "language_info": {
   "codemirror_mode": {
    "name": "ipython",
    "version": 3
   },
   "file_extension": ".py",
   "mimetype": "text/x-python",
   "name": "python",
   "nbconvert_exporter": "python",
   "pygments_lexer": "ipython3",
   "version": "3.9.7"
  }
 },
 "nbformat": 4,
 "nbformat_minor": 5
}
