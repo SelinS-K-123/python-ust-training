{
 "cells": [
  {
   "cell_type": "code",
   "execution_count": null,
   "id": "23c2aeb9",
   "metadata": {},
   "outputs": [
    {
     "name": "stdout",
     "output_type": "stream",
     "text": [
      "socket created\n",
      "waiting for connection\n",
      "connected with ('127.0.0.1', 18737) selin\n"
     ]
    }
   ],
   "source": [
    "#Server Side\n",
    "import socket\n",
    "s=socket.socket()\n",
    "print('socket created')\n",
    "s.bind(('localhost',9999))\n",
    "s.listen(3)\n",
    "print('waiting for connection')\n",
    "while True:\n",
    "    c,addr=s.accept()\n",
    "    name=c.recv(1024).decode()\n",
    "    print('connected with',addr,name)\n",
    "    \n",
    "    c.send(bytes('welcome to UST','utf-8'))\n",
    "    c.close()"
   ]
  },
  {
   "cell_type": "code",
   "execution_count": null,
   "id": "59e110ae",
   "metadata": {},
   "outputs": [],
   "source": [
    "# Client Side\n",
    "import socket\n",
    "\n",
    "c=socket.socket()\n",
    "c.connect(('localhost',9999))\n",
    "\n",
    "name=input('Enter your name : ')\n",
    "c.send(bytes(name,'utf-8'))\n",
    "\n",
    "print(c.recv(1024).decode())"
   ]
  }
 ],
 "metadata": {
  "kernelspec": {
   "display_name": "Python 3 (ipykernel)",
   "language": "python",
   "name": "python3"
  },
  "language_info": {
   "codemirror_mode": {
    "name": "ipython",
    "version": 3
   },
   "file_extension": ".py",
   "mimetype": "text/x-python",
   "name": "python",
   "nbconvert_exporter": "python",
   "pygments_lexer": "ipython3",
   "version": "3.9.7"
  }
 },
 "nbformat": 4,
 "nbformat_minor": 5
}
