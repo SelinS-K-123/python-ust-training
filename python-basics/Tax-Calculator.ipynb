{
 "cells": [
  {
   "cell_type": "code",
   "execution_count": null,
   "id": "6ddac1ad",
   "metadata": {},
   "outputs": [
    {
     "name": "stdout",
     "output_type": "stream",
     "text": [
      "Enter tax lookup \n",
      " 1: Country \n",
      " 2: State\n",
      "\n"
     ]
    }
   ],
   "source": [
    "#!usr/bin/python\n",
    "#Tax Calculator - Asks the user to enter a cost and either a country or state tax. It then returns the tax plus the total cost with tax.\n",
    "'''cost = int(input(\"What is the cost? \"))\n",
    "tax_rate = float(input(\"What is the tax rate? Please enter in decimal form. \"))\n",
    "tax = cost*tax_rate\n",
    "print (\"Tax = \" + str(tax))\n",
    "print (\"Total cost = \" + str(tax+cost))'''\n",
    "\n",
    "tax_rates = {\n",
    "\t'State' : {\n",
    "    'AZ' : .056,\n",
    "    'CO' : .029,\n",
    "    'MT' : 0.0,\n",
    "    'NV' : .0685,\n",
    "    'TX' : .0625\n",
    "   },\n",
    "  'Country' : {\n",
    "    'CAN' : .05,\n",
    "    'UK' : .2,\n",
    "    'ESP' : .21,\n",
    "    'GER' : .19,\n",
    "    'JAP' : .08\n",
    "  }\n",
    "}\n",
    "\n",
    "print (\"Enter tax lookup \\n \\\n",
    "1: Country \\n \\\n",
    "2: State\\n\")\n",
    "\n",
    "tax_lookup = int(input())\n",
    "if tax_lookup == 1:\n",
    "\tchoice = 'Country'\n",
    "else:\n",
    "\tchoice = 'State'\n",
    "cost = float(input(\"Enter Cost: \"))\n",
    "rate = str(input(\"Select Tax Rate (%s): \" % ','.join(tax_rates[choice].keys())))\n",
    "\n",
    "print (\"Cost of %.2f in %s is %.2f\" % (cost, rate, float(cost + (cost * tax_rates[choice][rate]))))\n",
    "\n"
   ]
  },
  {
   "cell_type": "code",
   "execution_count": null,
   "id": "dffe1705",
   "metadata": {},
   "outputs": [],
   "source": []
  }
 ],
 "metadata": {
  "kernelspec": {
   "display_name": "Python 3 (ipykernel)",
   "language": "python",
   "name": "python3"
  },
  "language_info": {
   "codemirror_mode": {
    "name": "ipython",
    "version": 3
   },
   "file_extension": ".py",
   "mimetype": "text/x-python",
   "name": "python",
   "nbconvert_exporter": "python",
   "pygments_lexer": "ipython3",
   "version": "3.9.7"
  }
 },
 "nbformat": 4,
 "nbformat_minor": 5
}
